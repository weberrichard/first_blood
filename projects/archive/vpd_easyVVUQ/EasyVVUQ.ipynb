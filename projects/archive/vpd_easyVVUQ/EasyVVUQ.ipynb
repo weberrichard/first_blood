{
 "cells": [
  {
   "cell_type": "code",
   "execution_count": 51,
   "id": "1248b798-271f-485f-a134-7c983530f2fa",
   "metadata": {},
   "outputs": [],
   "source": [
    "import easyvvuq as uq\n",
    "import chaospy as cp\n",
    "import matplotlib.pyplot as plt\n",
    "import os"
   ]
  },
  {
   "cell_type": "code",
   "execution_count": 52,
   "id": "5fbc37af-40e3-4fe4-8455-a0cddfab1eeb",
   "metadata": {},
   "outputs": [],
   "source": [
    "params = {\n",
    "    \"n\": {\"type\": \"float\", \"default\": 2950.0}, \n",
    "    \"hmp\": {\"type\": \"float\", \"default\": 3.0, \"min\": 0.0, \"max\":10},\n",
    "    \"h1\": {\"type\": \"float\", \"default\": 90.0}, \n",
    "    \"pbm\": {\"type\": \"float\", \"default\": 3.05},\n",
    "    \"P\": {\"type\": \"float\", \"default\": 390.0},\n",
    "    \"outfile\": {\"type\": \"string\", \"default\": \"output.json\"}\n",
    "}"
   ]
  },
  {
   "cell_type": "code",
   "execution_count": 53,
   "id": "d947afbf-0573-4031-895e-58242dae56c1",
   "metadata": {},
   "outputs": [
    {
     "data": {
      "text/plain": [
       "'D:\\\\0_PhD\\\\0_hallgato\\\\1_jelfel\\\\EasyVVUQ'"
      ]
     },
     "execution_count": 53,
     "metadata": {},
     "output_type": "execute_result"
    }
   ],
   "source": [
    "workdir=os.path.abspath('D:/0_PhD/0_hallgato/1_jelfel/EasyVVUQ')\n",
    "workdir"
   ]
  },
  {
   "cell_type": "code",
   "execution_count": 54,
   "id": "b28ce10f-db25-4ab3-9d7f-4c42292b6693",
   "metadata": {},
   "outputs": [
    {
     "data": {
      "text/plain": [
       "'python D:\\\\0_PhD\\\\0_hallgato\\\\1_jelfel\\\\EasyVVUQ\\\\OA.py'"
      ]
     },
     "execution_count": 54,
     "metadata": {},
     "output_type": "execute_result"
    }
   ],
   "source": [
    "'python '+workdir+'\\OA.py'"
   ]
  },
  {
   "cell_type": "code",
   "execution_count": 63,
   "id": "234d56c1-59fd-4199-bbf4-f810537d938f",
   "metadata": {},
   "outputs": [],
   "source": [
    "encoder = uq.encoders.GenericEncoder(template_fname='input.template', delimiter='$', target_filename='input.json')\n",
    "decoder = uq.decoders.JSONDecoder(target_filename='output.json', output_columns=['Ph', 'eta'])\n",
    "#actions = uq.actions.local_execute(encoder, 'python OA.py', decoder)\n",
    "execute = uq.actions.ExecuteLocal('python '+workdir+'\\OA.py')\n",
    "\n",
    "actions = uq.actions.Actions(uq.actions.CreateRunDirectory('/tmp'), \n",
    "                  uq.actions.Encode(encoder), execute, uq.actions.Decode(decoder))"
   ]
  },
  {
   "cell_type": "code",
   "execution_count": 64,
   "id": "dc67eec5-d63a-4e93-8727-2d33f4d57894",
   "metadata": {},
   "outputs": [
    {
     "name": "stdout",
     "output_type": "stream",
     "text": [
      "db_location = sqlite:///D:\\0_PhD\\0_hallgato\\1_jelfel\\EasyVVUQ\\OAg09a158e/campaign.db\n",
      "active_sampler_id = None\n",
      "campaign_name = OA\n",
      "campaign_dir = D:\\0_PhD\\0_hallgato\\1_jelfel\\EasyVVUQ\\OAg09a158e\n",
      "campaign_id = 1\n",
      "\n"
     ]
    }
   ],
   "source": [
    "campaign = uq.campaign.Campaign(name='OA', params=params, actions=actions, work_dir=workdir)\n",
    "print(campaign)"
   ]
  },
  {
   "cell_type": "code",
   "execution_count": 65,
   "id": "871c640d-f458-4057-b3ea-6e9350d575eb",
   "metadata": {},
   "outputs": [],
   "source": [
    "vary = {\n",
    "    \"n\": cp.Normal(2950.0, 10),\n",
    "    #\"hmp\": cp.Normal(3.0, 0.1),\n",
    "    \"h1\": cp.Normal(90.0, 5),\n",
    "    \"pbm\": cp.Normal(3.05, 0.5),\n",
    "    \"P\": cp.Normal(390.0, 20),\n",
    "}"
   ]
  },
  {
   "cell_type": "code",
   "execution_count": null,
   "id": "d30548d5-4a31-4d1a-aff9-5625cb9b99ad",
   "metadata": {},
   "outputs": [],
   "source": []
  },
  {
   "cell_type": "code",
   "execution_count": 66,
   "id": "8fc1a3a2-be38-47a1-88c5-457dbf2277d6",
   "metadata": {
    "scrolled": true,
    "tags": []
   },
   "outputs": [],
   "source": [
    "#campaign.set_sampler(uq.sampling.SCSampler(vary=vary, polynomial_order=3))\n",
    "#campaign.draw_samples(num_samples=10)"
   ]
  },
  {
   "cell_type": "code",
   "execution_count": 67,
   "id": "be691815-2e31-42c4-827b-d5c81d7c371f",
   "metadata": {},
   "outputs": [],
   "source": [
    "campaign.set_sampler(uq.sampling.PCESampler(vary=vary, polynomial_order=3))"
   ]
  },
  {
   "cell_type": "code",
   "execution_count": 68,
   "id": "6df4b527-d823-4b84-afe0-dc558c5216cb",
   "metadata": {},
   "outputs": [
    {
     "name": "stderr",
     "output_type": "stream",
     "text": [
      "100%|██████████| 256/256 [00:01<00:00, 128.51it/s]\n"
     ]
    }
   ],
   "source": [
    "campaign.execute().collate(progress_bar=True)"
   ]
  },
  {
   "cell_type": "code",
   "execution_count": 69,
   "id": "8a3ec7e1-070b-43f1-a33f-c4a5d513f43f",
   "metadata": {},
   "outputs": [
    {
     "data": {
      "text/html": [
       "<div>\n",
       "<style scoped>\n",
       "    .dataframe tbody tr th:only-of-type {\n",
       "        vertical-align: middle;\n",
       "    }\n",
       "\n",
       "    .dataframe tbody tr th {\n",
       "        vertical-align: top;\n",
       "    }\n",
       "\n",
       "    .dataframe thead tr th {\n",
       "        text-align: left;\n",
       "    }\n",
       "</style>\n",
       "<table border=\"1\" class=\"dataframe\">\n",
       "  <thead>\n",
       "    <tr>\n",
       "      <th></th>\n",
       "      <th>run_id</th>\n",
       "      <th>iteration</th>\n",
       "      <th>n</th>\n",
       "      <th>h1</th>\n",
       "      <th>pbm</th>\n",
       "      <th>P</th>\n",
       "      <th>hmp</th>\n",
       "      <th>outfile</th>\n",
       "      <th>Ph</th>\n",
       "      <th>eta</th>\n",
       "    </tr>\n",
       "    <tr>\n",
       "      <th></th>\n",
       "      <th>0</th>\n",
       "      <th>0</th>\n",
       "      <th>0</th>\n",
       "      <th>0</th>\n",
       "      <th>0</th>\n",
       "      <th>0</th>\n",
       "      <th>0</th>\n",
       "      <th>0</th>\n",
       "      <th>0</th>\n",
       "      <th>0</th>\n",
       "    </tr>\n",
       "  </thead>\n",
       "  <tbody>\n",
       "    <tr>\n",
       "      <th>0</th>\n",
       "      <td>1</td>\n",
       "      <td>0</td>\n",
       "      <td>2926.655858</td>\n",
       "      <td>78.327929</td>\n",
       "      <td>1.882793</td>\n",
       "      <td>343.311716</td>\n",
       "      <td>3.0</td>\n",
       "      <td>output.json</td>\n",
       "      <td>280.420813</td>\n",
       "      <td>0.102101</td>\n",
       "    </tr>\n",
       "    <tr>\n",
       "      <th>1</th>\n",
       "      <td>2</td>\n",
       "      <td>0</td>\n",
       "      <td>2926.655858</td>\n",
       "      <td>78.327929</td>\n",
       "      <td>1.882793</td>\n",
       "      <td>375.160724</td>\n",
       "      <td>3.0</td>\n",
       "      <td>output.json</td>\n",
       "      <td>280.420813</td>\n",
       "      <td>0.093434</td>\n",
       "    </tr>\n",
       "    <tr>\n",
       "      <th>2</th>\n",
       "      <td>3</td>\n",
       "      <td>0</td>\n",
       "      <td>2926.655858</td>\n",
       "      <td>78.327929</td>\n",
       "      <td>1.882793</td>\n",
       "      <td>404.839276</td>\n",
       "      <td>3.0</td>\n",
       "      <td>output.json</td>\n",
       "      <td>280.420813</td>\n",
       "      <td>0.086584</td>\n",
       "    </tr>\n",
       "    <tr>\n",
       "      <th>3</th>\n",
       "      <td>4</td>\n",
       "      <td>0</td>\n",
       "      <td>2926.655858</td>\n",
       "      <td>78.327929</td>\n",
       "      <td>1.882793</td>\n",
       "      <td>436.688284</td>\n",
       "      <td>3.0</td>\n",
       "      <td>output.json</td>\n",
       "      <td>280.420813</td>\n",
       "      <td>0.080269</td>\n",
       "    </tr>\n",
       "    <tr>\n",
       "      <th>4</th>\n",
       "      <td>5</td>\n",
       "      <td>0</td>\n",
       "      <td>2926.655858</td>\n",
       "      <td>78.327929</td>\n",
       "      <td>2.679018</td>\n",
       "      <td>343.311716</td>\n",
       "      <td>3.0</td>\n",
       "      <td>output.json</td>\n",
       "      <td>385.268872</td>\n",
       "      <td>0.140277</td>\n",
       "    </tr>\n",
       "    <tr>\n",
       "      <th>...</th>\n",
       "      <td>...</td>\n",
       "      <td>...</td>\n",
       "      <td>...</td>\n",
       "      <td>...</td>\n",
       "      <td>...</td>\n",
       "      <td>...</td>\n",
       "      <td>...</td>\n",
       "      <td>...</td>\n",
       "      <td>...</td>\n",
       "      <td>...</td>\n",
       "    </tr>\n",
       "    <tr>\n",
       "      <th>251</th>\n",
       "      <td>252</td>\n",
       "      <td>0</td>\n",
       "      <td>2973.344142</td>\n",
       "      <td>101.672071</td>\n",
       "      <td>3.420982</td>\n",
       "      <td>436.688284</td>\n",
       "      <td>3.0</td>\n",
       "      <td>output.json</td>\n",
       "      <td>487.072903</td>\n",
       "      <td>0.139422</td>\n",
       "    </tr>\n",
       "    <tr>\n",
       "      <th>252</th>\n",
       "      <td>253</td>\n",
       "      <td>0</td>\n",
       "      <td>2973.344142</td>\n",
       "      <td>101.672071</td>\n",
       "      <td>4.217207</td>\n",
       "      <td>343.311716</td>\n",
       "      <td>3.0</td>\n",
       "      <td>output.json</td>\n",
       "      <td>591.920962</td>\n",
       "      <td>0.215519</td>\n",
       "    </tr>\n",
       "    <tr>\n",
       "      <th>253</th>\n",
       "      <td>254</td>\n",
       "      <td>0</td>\n",
       "      <td>2973.344142</td>\n",
       "      <td>101.672071</td>\n",
       "      <td>4.217207</td>\n",
       "      <td>375.160724</td>\n",
       "      <td>3.0</td>\n",
       "      <td>output.json</td>\n",
       "      <td>591.920962</td>\n",
       "      <td>0.197222</td>\n",
       "    </tr>\n",
       "    <tr>\n",
       "      <th>254</th>\n",
       "      <td>255</td>\n",
       "      <td>0</td>\n",
       "      <td>2973.344142</td>\n",
       "      <td>101.672071</td>\n",
       "      <td>4.217207</td>\n",
       "      <td>404.839276</td>\n",
       "      <td>3.0</td>\n",
       "      <td>output.json</td>\n",
       "      <td>591.920962</td>\n",
       "      <td>0.182764</td>\n",
       "    </tr>\n",
       "    <tr>\n",
       "      <th>255</th>\n",
       "      <td>256</td>\n",
       "      <td>0</td>\n",
       "      <td>2973.344142</td>\n",
       "      <td>101.672071</td>\n",
       "      <td>4.217207</td>\n",
       "      <td>436.688284</td>\n",
       "      <td>3.0</td>\n",
       "      <td>output.json</td>\n",
       "      <td>591.920962</td>\n",
       "      <td>0.169435</td>\n",
       "    </tr>\n",
       "  </tbody>\n",
       "</table>\n",
       "<p>256 rows × 10 columns</p>\n",
       "</div>"
      ],
      "text/plain": [
       "    run_id iteration            n          h1       pbm           P  hmp  \\\n",
       "         0         0            0           0         0           0    0   \n",
       "0        1         0  2926.655858   78.327929  1.882793  343.311716  3.0   \n",
       "1        2         0  2926.655858   78.327929  1.882793  375.160724  3.0   \n",
       "2        3         0  2926.655858   78.327929  1.882793  404.839276  3.0   \n",
       "3        4         0  2926.655858   78.327929  1.882793  436.688284  3.0   \n",
       "4        5         0  2926.655858   78.327929  2.679018  343.311716  3.0   \n",
       "..     ...       ...          ...         ...       ...         ...  ...   \n",
       "251    252         0  2973.344142  101.672071  3.420982  436.688284  3.0   \n",
       "252    253         0  2973.344142  101.672071  4.217207  343.311716  3.0   \n",
       "253    254         0  2973.344142  101.672071  4.217207  375.160724  3.0   \n",
       "254    255         0  2973.344142  101.672071  4.217207  404.839276  3.0   \n",
       "255    256         0  2973.344142  101.672071  4.217207  436.688284  3.0   \n",
       "\n",
       "         outfile          Ph       eta  \n",
       "               0           0         0  \n",
       "0    output.json  280.420813  0.102101  \n",
       "1    output.json  280.420813  0.093434  \n",
       "2    output.json  280.420813  0.086584  \n",
       "3    output.json  280.420813  0.080269  \n",
       "4    output.json  385.268872  0.140277  \n",
       "..           ...         ...       ...  \n",
       "251  output.json  487.072903  0.139422  \n",
       "252  output.json  591.920962  0.215519  \n",
       "253  output.json  591.920962  0.197222  \n",
       "254  output.json  591.920962  0.182764  \n",
       "255  output.json  591.920962  0.169435  \n",
       "\n",
       "[256 rows x 10 columns]"
      ]
     },
     "execution_count": 69,
     "metadata": {},
     "output_type": "execute_result"
    }
   ],
   "source": [
    "campaign.get_collation_result()"
   ]
  },
  {
   "cell_type": "code",
   "execution_count": null,
   "id": "ee04f954-5045-48ad-9a9e-425644b8ce40",
   "metadata": {},
   "outputs": [],
   "source": []
  },
  {
   "cell_type": "code",
   "execution_count": 70,
   "id": "3c6c68dc-8fab-4c36-ba68-57abfd2f5232",
   "metadata": {},
   "outputs": [],
   "source": [
    "results = campaign.analyse(qoi_cols=['Ph'])"
   ]
  },
  {
   "cell_type": "code",
   "execution_count": 71,
   "id": "818a6b73-b58e-4004-a809-6bb648236e15",
   "metadata": {},
   "outputs": [
    {
     "name": "stderr",
     "output_type": "stream",
     "text": [
      "C:\\Users\\sandor\\anaconda3\\envs\\vvuq\\lib\\site-packages\\easyvvuq\\analysis\\results.py:417: UserWarning: Matplotlib is currently using module://matplotlib_inline.backend_inline, which is a non-GUI backend, so cannot show the figure.\n",
      "  fig.show()\n"
     ]
    },
    {
     "data": {
      "image/png": "[encoded data removed]",
      "text/plain": [
       "<Figure size 720x720 with 1 Axes>"
      ]
     },
     "metadata": {
      "needs_background": "light"
     },
     "output_type": "display_data"
    }
   ],
   "source": [
    "results.plot_sobols_treemap('Ph', figsize=(10, 10))\n",
    "plt.axis('off');"
   ]
  },
  {
   "cell_type": "code",
   "execution_count": null,
   "id": "819c0e23-3595-4e4f-9030-fea30ab322fe",
   "metadata": {},
   "outputs": [],
   "source": []
  }
 ],
 "metadata": {
  "kernelspec": {
   "display_name": "Python 3 (ipykernel)",
   "language": "python",
   "name": "python3"
  },
  "language_info": {
   "codemirror_mode": {
    "name": "ipython",
    "version": 3
   },
   "file_extension": ".py",
   "mimetype": "text/x-python",
   "name": "python",
   "nbconvert_exporter": "python",
   "pygments_lexer": "ipython3",
   "version": "3.10.4"
  }
 },
 "nbformat": 4,
 "nbformat_minor": 5
}
